{
 "cells": [
  {
   "cell_type": "markdown",
   "id": "6ce47da0",
   "metadata": {},
   "source": [
    "**Todos el desarrollo a mano esta en el PDF correspondiente a este notebook**\n",
    "# Guia de TP 1 SdC\n",
    "## Alumno: Olay Emanuel\n",
    "### Ejercicio 1:\n",
    "Dada la siguiente ecuacion diferencial, se pide obtener una representacion grafica mediante bloques, utilizando (a) integradores y (b) derivadores. Cual es la diferencia sustancial entre las dos representaciones?, Donde se introducen las condiciones iniciales?<br>\n",
    "$$\\frac{dy^4_{(t)}}{dt^4}+a_3 * \\frac{dy^3_{(t)}}{dt^3}+ a_2*\\frac{dy^2_{(t)}}{dt^2}+a_1*\\frac{dy_{(t)}}{dt}+a_0*y_{(t)}=u_{(t)}$$\n",
    "Equivale a:<br>\n",
    "$$S^4*Y_{(S)}+ a_3*S^3*Y_{(S)}+ a_2*S^2*Y_{(S)} +a_1*S*Y_{(S)}+a_0*Y_{(S)}= U_{(S)}$$\n",
    "A partir de aqui hay 3 representaciones:<br>\n",
    "Transferencia directa:\n",
    "$$\\frac{Y_{(S)}}{U_{(S)}}=\\frac{1}{(S^4+a_3*S^3+a_2*S^2+a_1*S+a_0)}$$\n",
    "Esto no es deseable, ya que cualquier variacion en la entrada se ver reflejada en la salida de forma proporcional.<br>\n",
    "Realimentando con derivadores:\n",
    "$$Y_{(S)}=\\frac{U_{(S)}-S^4*Y_{(S)}-a_3*S^3*Y_{(S)}-a_2*S^2*Y_{(S)}-a_1*S*Y_{(S)}}{a_0}$$\n",
    "En este caso las condiciones iniciales afectan directamente a la salida luego del sumador.<br>\n",
    "Realimentando con integradores:\n",
    "$$Y_{(S)}=\\frac{U_{(S)}}{S^4}-\\frac{a_0*Y_{(S)}}{S^4}-\\frac{a_1*Y_{(S)}}{S^3}-\\frac{a_2*Y_{(S)}}{S^2}-\\frac{a_3*Y_{(S)}}{S}$$\n",
    "En este caso las condiciones iniciales quedan antes del sumador con lo cual no afectan directamente a la salida.<br>\n",
    "<img src='./Images/TP1_EJ1_a.PNG'>"
   ]
  },
  {
   "cell_type": "markdown",
   "id": "3b51c9f4",
   "metadata": {},
   "source": [
    "### Ejercicio 2:\n",
    "Indicar, para cada una de las siguientes ecuaciones diferenciales. Cuales de los siguientes atributos se aplican a las mismas?<br>\n",
    "Atributos: *Lineal, no lineal, coeficientes constantes, coeficientes variables, forzada, no forzada, parametros concentrados, parametros distribuidos.*\n",
    "> 2.1)$\\frac{dx_{(t)}}{dt}=5x_{(t)}$<br>\n",
    "  2.2)$\\frac{dx_{(t)}}{dt}=5x^2_{(t)}$<br>\n",
    "  2.3)$\\frac{dx_{(t)}}{dt}=5x_{(8t)}+4t$<br>\n",
    "  2.4)$\\frac{dx_{(t)}}{dt}=(9t+1)x^2_{(t)}+5t$<br>\n",
    "  2.5)$\\frac{dx_{(t)}}{dt}=e^{x_{(t)}}+5x_{(t)}+g_{(t)}$<br>"
   ]
  },
  {
   "cell_type": "markdown",
   "id": "b5f8a4a9",
   "metadata": {},
   "source": [
    "### Ganancia de mason:\n",
    "$$\\frac{Y_{(S)}}{U_{(S)}} = \\frac{\\sum_{i=0}^N p_i*\\Delta_i}{\\Delta}$$\n",
    "Siendo N la cantidad de caminos que conectan el nodo $U$ y el nodo $Y$<br>\n",
    "$\\Delta=1-$(Lazos Directos)+(productoria de lazos que no se tocan)<br>\n",
    "$p_i$: trayectoria directa i-esima<br>\n",
    "$\\Delta_i:\\Delta$ que no es tocado por $p_i$ <br>"
   ]
  },
  {
   "cell_type": "code",
   "execution_count": null,
   "id": "4be91dcc",
   "metadata": {},
   "outputs": [],
   "source": []
  }
 ],
 "metadata": {
  "kernelspec": {
   "display_name": "Python 3 (ipykernel)",
   "language": "python",
   "name": "python3"
  },
  "language_info": {
   "codemirror_mode": {
    "name": "ipython",
    "version": 3
   },
   "file_extension": ".py",
   "mimetype": "text/x-python",
   "name": "python",
   "nbconvert_exporter": "python",
   "pygments_lexer": "ipython3",
   "version": "3.8.8"
  },
  "varInspector": {
   "cols": {
    "lenName": 16,
    "lenType": 16,
    "lenVar": 40
   },
   "kernels_config": {
    "python": {
     "delete_cmd_postfix": "",
     "delete_cmd_prefix": "del ",
     "library": "var_list.py",
     "varRefreshCmd": "print(var_dic_list())"
    },
    "r": {
     "delete_cmd_postfix": ") ",
     "delete_cmd_prefix": "rm(",
     "library": "var_list.r",
     "varRefreshCmd": "cat(var_dic_list()) "
    }
   },
   "types_to_exclude": [
    "module",
    "function",
    "builtin_function_or_method",
    "instance",
    "_Feature"
   ],
   "window_display": false
  }
 },
 "nbformat": 4,
 "nbformat_minor": 5
}
